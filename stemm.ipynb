{
  "nbformat": 4,
  "nbformat_minor": 0,
  "metadata": {
    "colab": {
      "provenance": [],
      "authorship_tag": "ABX9TyPOqVDlM+GVWCnNuanL8Qzk",
      "include_colab_link": true
    },
    "kernelspec": {
      "name": "python3",
      "display_name": "Python 3"
    },
    "language_info": {
      "name": "python"
    }
  },
  "cells": [
    {
      "cell_type": "markdown",
      "metadata": {
        "id": "view-in-github",
        "colab_type": "text"
      },
      "source": [
        "<a href=\"https://colab.research.google.com/github/andugulasandhya/Sandhya1331/blob/main/stemm.ipynb\" target=\"_parent\"><img src=\"https://colab.research.google.com/assets/colab-badge.svg\" alt=\"Open In Colab\"/></a>"
      ]
    },
    {
      "cell_type": "code",
      "execution_count": 2,
      "metadata": {
        "colab": {
          "base_uri": "https://localhost:8080/"
        },
        "id": "RIuK6Y61NBVN",
        "outputId": "39091cfc-bc44-4dd6-b1de-c4ec2ec9ca11"
      },
      "outputs": [
        {
          "output_type": "stream",
          "name": "stderr",
          "text": [
            "[nltk_data] Downloading package punkt to /root/nltk_data...\n",
            "[nltk_data]   Unzipping tokenizers/punkt.zip.\n",
            "[nltk_data] Downloading package wordnet to /root/nltk_data...\n",
            "[nltk_data]   Package wordnet is already up-to-date!\n"
          ]
        },
        {
          "output_type": "execute_result",
          "data": {
            "text/plain": [
              "True"
            ]
          },
          "metadata": {},
          "execution_count": 2
        }
      ],
      "source": [
        "import nltk\n",
        "nltk.download('punkt')\n",
        "nltk.download('wordnet')"
      ]
    },
    {
      "cell_type": "code",
      "source": [
        "from nltk.stem import WordNetLemmatizer\n",
        "wordnet_lemmatizer=WordNetLemmatizer()"
      ],
      "metadata": {
        "id": "yta3VvPQNcPJ"
      },
      "execution_count": 17,
      "outputs": []
    },
    {
      "cell_type": "code",
      "source": [
        "sentence=\"He was running and eating at same time.he has a bad habbit of swimming after long hours playing.\"\n",
        "punctuations=\"?:,,;\""
      ],
      "metadata": {
        "id": "pbPqbS_dORQA"
      },
      "execution_count": 16,
      "outputs": []
    },
    {
      "cell_type": "code",
      "source": [
        "from nltk.tokenize import sent_tokenize,word_tokenize\n",
        "def lemmatizeSentence(sentence):\n",
        "     token_words=word_tokenize(sentence)\n",
        "     print(token_words)\n",
        "     lemma_sentence=[]\n",
        "     for word in token_words:\n",
        "        lemma_sentence.append(wordnet_lemmatizer.lemmatize(sentence))\n",
        "        lemma_sentence.append(\" \")\n",
        "        return \"\".join(lemma_sentence)\n",
        "x=lemmatizeSentence(sentence)\n",
        "print('after the sentence:',x)\n",
        "\n"
      ],
      "metadata": {
        "colab": {
          "base_uri": "https://localhost:8080/"
        },
        "id": "YihIJOVQO62r",
        "outputId": "24cfc7ca-d24e-45ac-8f03-d30b37c4a450"
      },
      "execution_count": 22,
      "outputs": [
        {
          "output_type": "stream",
          "name": "stdout",
          "text": [
            "['He', 'was', 'running', 'and', 'eating', 'at', 'same', 'time.he', 'has', 'a', 'bad', 'habbit', 'of', 'swimming', 'after', 'long', 'hours', 'playing', '.']\n",
            "after the sentence: He was running and eating at same time.he has a bad habbit of swimming after long hours playing. \n"
          ]
        }
      ]
    }
  ]
}