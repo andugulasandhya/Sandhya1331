{
  "nbformat": 4,
  "nbformat_minor": 0,
  "metadata": {
    "colab": {
      "provenance": [],
      "authorship_tag": "ABX9TyOmiVxaAuiDtFMKESQIIOIA",
      "include_colab_link": true
    },
    "kernelspec": {
      "name": "python3",
      "display_name": "Python 3"
    },
    "language_info": {
      "name": "python"
    }
  },
  "cells": [
    {
      "cell_type": "markdown",
      "metadata": {
        "id": "view-in-github",
        "colab_type": "text"
      },
      "source": [
        "<a href=\"https://colab.research.google.com/github/andugulasandhya/Sandhya1331/blob/main/Noise.ipynb\" target=\"_parent\"><img src=\"https://colab.research.google.com/assets/colab-badge.svg\" alt=\"Open In Colab\"/></a>"
      ]
    },
    {
      "cell_type": "code",
      "execution_count": null,
      "metadata": {
        "colab": {
          "base_uri": "https://localhost:8080/"
        },
        "id": "oHUCUanraUS8",
        "outputId": "9071e059-f3ae-4e33-a44d-d3790e3f5eb3"
      },
      "outputs": [
        {
          "output_type": "stream",
          "name": "stderr",
          "text": [
            "[nltk_data] Downloading package stopwords to /root/nltk_data...\n",
            "[nltk_data]   Package stopwords is already up-to-date!\n",
            "[nltk_data] Downloading package punkt to /root/nltk_data...\n",
            "[nltk_data]   Unzipping tokenizers/punkt.zip.\n"
          ]
        }
      ],
      "source": [
        "import nltk\n",
        "from nltk.corpus import stopwords\n",
        "nltk.download('stopwords')\n",
        "nltk.download('punkt')\n",
        "from nltk.tokenize import word_tokenize\n",
        "import string"
      ]
    },
    {
      "cell_type": "code",
      "source": [
        "def remove_punctuation(sentence):\n",
        "  for i in sentence:\n",
        "    if i in string.punctuation:\n",
        "      sentence=sentence.replace(i,\"\")\n",
        "  return sentence"
      ],
      "metadata": {
        "id": "HlhpDRtJbGgb"
      },
      "execution_count": null,
      "outputs": []
    },
    {
      "cell_type": "code",
      "source": [
        "def remove_stopwords(sentence):\n",
        "  stop_words=set(stopwords.words('english'))\n",
        "  word_tokens=word_tokenize(example_sent)\n",
        "  filtered_sentence=[]\n",
        "  for w in word_tokens:\n",
        "      if w not in stop_words:\n",
        "          filtered_sentence.append(w)\n",
        "  return filtered_sentence"
      ],
      "metadata": {
        "id": "wWkXAPt1boRW"
      },
      "execution_count": null,
      "outputs": []
    },
    {
      "cell_type": "code",
      "source": [
        "example_sent = \"\"\"We are learning Natural Language Processing (NLP) as part of\n",
        "Fundamentals of Machine Learning (FML) course in our second year B.Tech.\"\"\""
      ],
      "metadata": {
        "id": "hXsquf6tcHl_"
      },
      "execution_count": null,
      "outputs": []
    },
    {
      "cell_type": "code",
      "source": [
        "print(f\"Original Sentence : \\n{example_sent}\")\n",
        "\n",
        "example_sent=remove_punctuation(example_sent)"
      ],
      "metadata": {
        "colab": {
          "base_uri": "https://localhost:8080/"
        },
        "id": "HbsvP0BFdke1",
        "outputId": "57ab5275-8528-4f41-db7d-803c4c0291e6"
      },
      "execution_count": null,
      "outputs": [
        {
          "output_type": "stream",
          "name": "stdout",
          "text": [
            "Original Sentence : \n",
            "We are learning Natural Language Processing (NLP) as part of \n",
            "Fundamentals of Machine Learning (FML) course in our second year B.Tech.\n"
          ]
        }
      ]
    },
    {
      "cell_type": "code",
      "source": [
        "print(f\"\\nSentence after removing punctuations : \\n{example_sent}\")\n",
        "example_sent=\" \".join(remove_stopwords(example_sent))\n"
      ],
      "metadata": {
        "colab": {
          "base_uri": "https://localhost:8080/"
        },
        "id": "JcGRWc8xeuTv",
        "outputId": "6f537f94-46d1-4125-d6dd-02f87b18d80f"
      },
      "execution_count": null,
      "outputs": [
        {
          "output_type": "stream",
          "name": "stdout",
          "text": [
            "\n",
            "Sentence after removing punctuations : \n",
            "We are learning Natural Language Processing NLP as part of \n",
            "Fundamentals of Machine Learning FML course in our second year BTech\n"
          ]
        }
      ]
    },
    {
      "cell_type": "code",
      "source": [
        "print(f\"\\nSentence after removing stopwords : \\n{example_sent}\")"
      ],
      "metadata": {
        "id": "vPv6jcXDgsMd",
        "outputId": "4742db3b-15ad-4b6d-a832-64e56a90af22",
        "colab": {
          "base_uri": "https://localhost:8080/"
        }
      },
      "execution_count": null,
      "outputs": [
        {
          "output_type": "stream",
          "name": "stdout",
          "text": [
            "\n",
            "Sentence after removing stopwords : \n",
            "We learning Natural Language Processing NLP part Fundamentals Machine Learning FML course second year BTech\n"
          ]
        }
      ]
    }
  ]
}