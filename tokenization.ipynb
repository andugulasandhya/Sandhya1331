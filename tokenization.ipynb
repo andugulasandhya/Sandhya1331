{
  "nbformat": 4,
  "nbformat_minor": 0,
  "metadata": {
    "colab": {
      "provenance": [],
      "authorship_tag": "ABX9TyOV2PTLs/D8ulj4Hslvfteo",
      "include_colab_link": true
    },
    "kernelspec": {
      "name": "python3",
      "display_name": "Python 3"
    },
    "language_info": {
      "name": "python"
    }
  },
  "cells": [
    {
      "cell_type": "markdown",
      "metadata": {
        "id": "view-in-github",
        "colab_type": "text"
      },
      "source": [
        "<a href=\"https://colab.research.google.com/github/andugulasandhya/Sandhya1331/blob/main/tokenization.ipynb\" target=\"_parent\"><img src=\"https://colab.research.google.com/assets/colab-badge.svg\" alt=\"Open In Colab\"/></a>"
      ]
    },
    {
      "cell_type": "code",
      "source": [
        "import nltk\n",
        "nltk.download('punkt')"
      ],
      "metadata": {
        "colab": {
          "base_uri": "https://localhost:8080/"
        },
        "id": "dC2tah305TAO",
        "outputId": "09a26ac1-f756-45c8-87e5-ee3bb11d8e6a"
      },
      "execution_count": 3,
      "outputs": [
        {
          "output_type": "stream",
          "name": "stderr",
          "text": [
            "[nltk_data] Downloading package punkt to /root/nltk_data...\n",
            "[nltk_data]   Unzipping tokenizers/punkt.zip.\n"
          ]
        },
        {
          "output_type": "execute_result",
          "data": {
            "text/plain": [
              "True"
            ]
          },
          "metadata": {},
          "execution_count": 3
        }
      ]
    },
    {
      "cell_type": "code",
      "execution_count": 5,
      "metadata": {
        "id": "DOTCEvuj4rWG"
      },
      "outputs": [],
      "source": [
        "text=\"\"\"We are learning Natural Language Processing (NLP) as part of Fundamentals of Machine Learning (FML) course in our second year B.Tech.\"\"\""
      ]
    },
    {
      "cell_type": "code",
      "source": [
        "tokens= text.split()"
      ],
      "metadata": {
        "id": "67DjDT4S45wV"
      },
      "execution_count": 6,
      "outputs": []
    },
    {
      "cell_type": "code",
      "source": [
        "print(tokens)\n",
        "print(\"No.of tokens : \", len(tokens))"
      ],
      "metadata": {
        "colab": {
          "base_uri": "https://localhost:8080/"
        },
        "id": "VkD2gRh-5m4b",
        "outputId": "3f7a2c1a-0a87-4472-e602-3acdf7e58460"
      },
      "execution_count": 7,
      "outputs": [
        {
          "output_type": "stream",
          "name": "stdout",
          "text": [
            "['We', 'are', 'learning', 'Natural', 'Language', 'Processing', '(NLP)', 'as', 'part', 'of', 'Fundamentals', 'of', 'Machine', 'Learning', '(FML)', 'course', 'in', 'our', 'second', 'year', 'B.Tech.']\n",
            "No.of tokens :  21\n"
          ]
        }
      ]
    },
    {
      "cell_type": "code",
      "source": [
        "sentence=\"\"\"We are learning Natural Language Processing (NLP) as part of Fundamentals of Machine Learning (FML) course in our second year B.Tech.\"\"\""
      ],
      "metadata": {
        "id": "9PPRc_ZE5qQY"
      },
      "execution_count": 8,
      "outputs": []
    },
    {
      "cell_type": "code",
      "source": [
        "sentences = text.split('.')\n",
        "print(sentences)\n",
        "print(\"No.of sentences : \", len(sentences))"
      ],
      "metadata": {
        "colab": {
          "base_uri": "https://localhost:8080/"
        },
        "id": "TkWga_sW55hB",
        "outputId": "d9bf6794-0694-4725-eb56-ebaa1c4a3d8a"
      },
      "execution_count": 10,
      "outputs": [
        {
          "output_type": "stream",
          "name": "stdout",
          "text": [
            "['We are learning Natural Language Processing (NLP) as part of Fundamentals of Machine Learning (FML) course in our second year B', 'Tech', '']\n",
            "No.of sentences :  3\n"
          ]
        }
      ]
    },
    {
      "cell_type": "code",
      "source": [],
      "metadata": {
        "id": "hkFpS7kQ5_sQ"
      },
      "execution_count": null,
      "outputs": []
    },
    {
      "cell_type": "code",
      "source": [],
      "metadata": {
        "id": "Q6CB4Cg05_za"
      },
      "execution_count": null,
      "outputs": []
    },
    {
      "cell_type": "code",
      "source": [
        "import re\n",
        "#word tokenization\n",
        "tokens = re.findall(\"[\\w']+\", text)\n",
        "print(tokens)\n",
        "print(\"No.of tokens : \", len(tokens))"
      ],
      "metadata": {
        "colab": {
          "base_uri": "https://localhost:8080/"
        },
        "id": "TUj51xIi55x_",
        "outputId": "9bed4c8f-414a-4563-ec90-fcbfdd407404"
      },
      "execution_count": 12,
      "outputs": [
        {
          "output_type": "stream",
          "name": "stdout",
          "text": [
            "['We', 'are', 'learning', 'Natural', 'Language', 'Processing', 'NLP', 'as', 'part', 'of', 'Fundamentals', 'of', 'Machine', 'Learning', 'FML', 'course', 'in', 'our', 'second', 'year', 'B', 'Tech']\n",
            "No.of tokens :  22\n"
          ]
        }
      ]
    },
    {
      "cell_type": "code",
      "source": [],
      "metadata": {
        "id": "sfkRCB9f6LGz"
      },
      "execution_count": null,
      "outputs": []
    },
    {
      "cell_type": "code",
      "source": [
        "sentences = re.compile('[.?!] ').split(text)\n",
        "print(sentences)\n",
        "print(\"No.of sentences : \", len(sentences))"
      ],
      "metadata": {
        "colab": {
          "base_uri": "https://localhost:8080/"
        },
        "id": "DfCYsWrM6LN3",
        "outputId": "a007d672-9f9f-432a-f2a1-dbf9af6085d6"
      },
      "execution_count": 13,
      "outputs": [
        {
          "output_type": "stream",
          "name": "stdout",
          "text": [
            "['We are learning Natural Language Processing (NLP) as part of Fundamentals of Machine Learning (FML) course in our second year B.Tech.']\n",
            "No.of sentences :  1\n"
          ]
        }
      ]
    },
    {
      "cell_type": "code",
      "source": [],
      "metadata": {
        "id": "wPnItMqT6RF2"
      },
      "execution_count": null,
      "outputs": []
    },
    {
      "cell_type": "code",
      "source": [
        "import nltk\n",
        "nltk.download('punkt')\n",
        "#word tokenization\n",
        "from nltk.tokenize import word_tokenize\n",
        "tokens = word_tokenize(text)\n",
        "print(tokens)\n",
        "print(\"No.of tokens : \", len(tokens))"
      ],
      "metadata": {
        "colab": {
          "base_uri": "https://localhost:8080/"
        },
        "id": "VDImri-D6RMj",
        "outputId": "d918939e-9b26-4763-9ca9-62d2ddbdaf8f"
      },
      "execution_count": 14,
      "outputs": [
        {
          "output_type": "stream",
          "name": "stdout",
          "text": [
            "['We', 'are', 'learning', 'Natural', 'Language', 'Processing', '(', 'NLP', ')', 'as', 'part', 'of', 'Fundamentals', 'of', 'Machine', 'Learning', '(', 'FML', ')', 'course', 'in', 'our', 'second', 'year', 'B.Tech', '.']\n",
            "No.of tokens :  26\n"
          ]
        },
        {
          "output_type": "stream",
          "name": "stderr",
          "text": [
            "[nltk_data] Downloading package punkt to /root/nltk_data...\n",
            "[nltk_data]   Package punkt is already up-to-date!\n"
          ]
        }
      ]
    },
    {
      "cell_type": "code",
      "source": [
        "#sentence tokenization\n",
        "from nltk.tokenize import sent_tokenize\n",
        "sentences = sent_tokenize(text)\n",
        "print(sentences)\n",
        "print(\"No.of sentences : \", len(sentences))"
      ],
      "metadata": {
        "colab": {
          "base_uri": "https://localhost:8080/"
        },
        "id": "U5_6JQmZ6Xnb",
        "outputId": "d146f8e3-a2a4-4ba0-f7e7-815b719bb269"
      },
      "execution_count": 15,
      "outputs": [
        {
          "output_type": "stream",
          "name": "stdout",
          "text": [
            "['We are learning Natural Language Processing (NLP) as part of Fundamentals of Machine Learning (FML) course in our second year B.Tech.']\n",
            "No.of sentences :  1\n"
          ]
        }
      ]
    }
  ]
}